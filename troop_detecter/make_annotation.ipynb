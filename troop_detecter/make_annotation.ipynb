{
 "cells": [
  {
   "cell_type": "code",
   "execution_count": 30,
   "metadata": {},
   "outputs": [],
   "source": [
    "# 3 - crowd source + mine\n",
    "\n",
    "labels_dir = r\"annotations.txt\"\n",
    "train_images_dir = r\"train_images\"\n",
    "val_images_dir = r\"val_images\"\n",
    "\n",
    "\n",
    "old_val_dir = r\"C:\\Users\\matt\\Desktop\\pycb yolo backup\\3 - crowd source + mine\\val\"\n",
    "old_labels_dir = (\n",
    "    r\"C:\\Users\\matt\\Desktop\\pycb yolo backup\\3 - crowd source + mine\\labels\"\n",
    ")"
   ]
  },
  {
   "cell_type": "code",
   "execution_count": 31,
   "metadata": {},
   "outputs": [],
   "source": [
    "import os\n",
    "import random"
   ]
  },
  {
   "cell_type": "code",
   "execution_count": 32,
   "metadata": {},
   "outputs": [
    {
     "name": "stdout",
     "output_type": "stream",
     "text": [
      "Random sample of old train txt files: ['screenshot1712749875.3492506.txt', 'screenshot1712742527.320359.txt', 'screenshot1712780774.502471.txt', 'screenshot1712774582.7085845.txt', 'screenshot1712769674.4328473.txt']\n",
      "Random sample of old val txt files: ['screenshot1713135766.6502116.txt', 'screenshot1713128136.5684538.txt', 'screenshot1713130646.173656.txt', 'screenshot1712783381.337259.txt', 'screenshot1713131075.7430267.txt']\n",
      "Random sample of all txt files: ['C:\\\\Users\\\\matt\\\\Desktop\\\\pycb yolo backup\\\\3 - crowd source + mine\\\\labels\\\\screenshot1712742987.7928352.txt', 'C:\\\\Users\\\\matt\\\\Desktop\\\\pycb yolo backup\\\\3 - crowd source + mine\\\\val\\\\screenshot1713305682.411386.txt', 'C:\\\\Users\\\\matt\\\\Desktop\\\\pycb yolo backup\\\\3 - crowd source + mine\\\\labels\\\\screenshot1712750364.8945415.txt', 'C:\\\\Users\\\\matt\\\\Desktop\\\\pycb yolo backup\\\\3 - crowd source + mine\\\\val\\\\screenshot1713144071.5152888.txt', 'C:\\\\Users\\\\matt\\\\Desktop\\\\pycb yolo backup\\\\3 - crowd source + mine\\\\val\\\\screenshot1713132796.6763186.txt']\n"
     ]
    }
   ],
   "source": [
    "# make a list of paths of every .txt file in old_train_dir and old_val_dir\n",
    "old_labels_files_names = os.listdir(old_labels_dir)\n",
    "old_val_files_names = os.listdir(old_val_dir)\n",
    "\n",
    "txt_files = []\n",
    "\n",
    "for file in old_labels_files_names:\n",
    "    if file.endswith(\".txt\"):\n",
    "        txt_files.append(os.path.join(old_labels_dir, file))\n",
    "\n",
    "for file in old_val_files_names:\n",
    "    if file.endswith(\".txt\"):\n",
    "        txt_files.append(os.path.join(old_val_dir, file))\n",
    "\n",
    "print(\n",
    "    f\"Random sample of old train txt files: {random.sample(old_labels_files_names, 5)}\"\n",
    ")\n",
    "print(f\"Random sample of old val txt files: {random.sample(old_val_files_names, 5)}\")\n",
    "print(f\"Random sample of all txt files: {random.sample(txt_files, 5)}\")"
   ]
  },
  {
   "cell_type": "code",
   "execution_count": 33,
   "metadata": {},
   "outputs": [
    {
     "data": {
      "text/plain": [
       "['0',\n",
       " '0.7095238095238096',\n",
       " '0.43601895734597157',\n",
       " '0.08333333333333333',\n",
       " '0.05529225908372828']"
      ]
     },
     "execution_count": 33,
     "metadata": {},
     "output_type": "execute_result"
    }
   ],
   "source": [
    "# read the content of a txt file\n",
    "def read_txt_file(file_name):\n",
    "    with open(file_name, \"r\") as file:\n",
    "        return file.read()\n",
    "\n",
    "\n",
    "def get_annotation_given_file_name(image_name):\n",
    "    search_string = image_name.split(\".\")[0]\n",
    "\n",
    "    for file in txt_files:\n",
    "        if search_string in file:\n",
    "            try:\n",
    "                text = read_txt_file((os.path.join(old_labels_dir, file)))\n",
    "            except:\n",
    "                pass\n",
    "            try:\n",
    "                text = read_txt_file((os.path.join(old_val_dir, file)))\n",
    "            except:\n",
    "                pass\n",
    "            text = text.replace(\"\\n\", \"\")\n",
    "            return text.split(\" \")\n",
    "\n",
    "\n",
    "get_annotation_given_file_name(\"screenshot1712732267.4097083.png\")"
   ]
  },
  {
   "cell_type": "code",
   "execution_count": 34,
   "metadata": {},
   "outputs": [
    {
     "name": "stdout",
     "output_type": "stream",
     "text": [
      "Random image names: ['screenshot1712771459.422212.png', 'screenshot1713141900.5985863.png', 'screenshot1713139943.2381923.png', 'screenshot1713143177.1242447.png', 'screenshot1713112014.2684836.png']\n",
      "There are 3225 raw datums in total\n",
      "['screenshot1713143487.7521944.png', 0, 225.5, 299.5, 260.5, 334.5]\n",
      "['screenshot1713142493.6647632.png', 0, 119.5, 319.5, 154.5, 354.5]\n",
      "['screenshot1712738740.4173622.png', 1, 65.5, 361.5, 100.5, 396.5]\n",
      "['screenshot1712772788.0112622.png', 0, 273.5, 354.5, 308.5, 389.5]\n",
      "['screenshot1712747536.089174.png', 0, 290.5, 280.5, 325.5, 315.5]\n",
      "['screenshot1712778073.2532678.png', 1, 93.5, 300.5, 128.5, 335.5]\n",
      "['screenshot1712740798.7471201.png', 1, 129.5, 204.5, 164.5, 239.5]\n",
      "['screenshot1712749616.6922605.png', 0, 109.5, 271.5, 144.5, 306.5]\n",
      "['screenshot1713142691.1398396.png', 0, 115.5, 352.5, 150.5, 387.5]\n",
      "['screenshot1713142433.0515485.png', 0, 190.5, 162.5, 225.5, 197.5]\n",
      "['screenshot1712748533.4037619.png', 1, 103.5, 224.5, 138.5, 259.5]\n",
      "['screenshot1712772556.5212774.png', 0, 118.5, 224.5, 153.5, 259.5]\n",
      "['screenshot1712734591.034547.png', 0, 234.5, 169.5, 269.5, 204.5]\n",
      "['screenshot1713128014.8295577.png', 0, 117.5, 183.5, 152.5, 218.5]\n",
      "['screenshot1712780342.586191.png', 1, 115.5, 160.5, 150.5, 195.5]\n",
      "['screenshot1713131483.4171336.png', 0, 300.5, 247.5, 335.5, 282.5]\n",
      "['screenshot1712777939.3099008.png', 0, 227.5, 203.5, 262.5, 238.5]\n",
      "['screenshot1713141048.2242608.png', 0, 292.5, 342.5, 327.5, 377.5]\n",
      "['screenshot1713142886.6972027.png', 0, 189.5, 171.5, 224.5, 206.5]\n",
      "['screenshot1712748063.69299.png', 0, 121.5, 249.5, 156.5, 284.5]\n"
     ]
    }
   ],
   "source": [
    "all_image_names = os.listdir(train_images_dir) + os.listdir(val_images_dir)\n",
    "print(f\"Random image names: {random.sample(all_image_names, 5)}\")\n",
    "\n",
    "\n",
    "\n",
    "remove_image_names = []\n",
    "\n",
    "\n",
    "\n",
    "datums = []\n",
    "\n",
    "\n",
    "for image_name in all_image_names:\n",
    "\n",
    "    annotation = get_annotation_given_file_name(image_name)\n",
    "    if annotation is None:\n",
    "        remove_image_names.append(image_name)\n",
    "        continue\n",
    "\n",
    "    annotation = [\n",
    "        int(annotation[0]),\n",
    "        float(annotation[1]),\n",
    "        float(annotation[2]),\n",
    "        float(annotation[3]),\n",
    "        float(annotation[4]),\n",
    "    ]\n",
    "\n",
    "    width = 420\n",
    "    height = 633\n",
    "\n",
    "    label = annotation[0]\n",
    "    var1 = annotation[1] * width  # left\n",
    "    var2 = annotation[2] * height  # y\n",
    "    width = annotation[3] * width\n",
    "    height = annotation[4] * height\n",
    "\n",
    "    var1 = round(var1, 1)\n",
    "    var2 = round(var2, 1)\n",
    "    width = round(width, 1)\n",
    "    height = round(height, 1)\n",
    "\n",
    "    x_adjust = width / 2\n",
    "    y_adjuist = height / 2\n",
    "\n",
    "    bbox = [\n",
    "        var1 + x_adjust - width,\n",
    "        var2 + y_adjuist - height,\n",
    "        var1 + x_adjust,\n",
    "        var2 + y_adjuist,\n",
    "    ]\n",
    "\n",
    "    datum = [\n",
    "        image_name,\n",
    "    ]\n",
    "    datum.append(label)\n",
    "    for var in bbox:\n",
    "        datum.append(var)\n",
    "\n",
    "    datums.append(datum)\n",
    "\n",
    "\n",
    "for image_name in remove_image_names:\n",
    "    try:\n",
    "\n",
    "        os.remove(os.path.join(train_images_dir, image_name))\n",
    "\n",
    "        print(f\"Removed {image_name}\")\n",
    "\n",
    "    except:\n",
    "        pass\n",
    "\n",
    "\n",
    "    try:\n",
    "\n",
    "        os.remove(os.path.join(val_images_dir, image_name))\n",
    "\n",
    "\n",
    "        print(f\"Removed {image_name}\")\n",
    "\n",
    "    except:\n",
    "        pass\n",
    "\n",
    "\n",
    "\n",
    "print(f\"There are {len(datums)} raw datums in total\")\n",
    "\n",
    "\n",
    "random_datums = random.sample(datums, 20)\n",
    "\n",
    "\n",
    "for d in random_datums:\n",
    "    print(d)"
   ]
  },
  {
   "cell_type": "code",
   "execution_count": 35,
   "metadata": {},
   "outputs": [
    {
     "name": "stdout",
     "output_type": "stream",
     "text": [
      "Random lines to print\n",
      " screenshot1712738913.8450103.png,0,126.5,280.5,161.5,315.5\n",
      " screenshot1713131027.9697933.png,1,91.5,291.5,126.5,326.5\n",
      " screenshot1712768495.967779.png,0,95.5,276.5,130.5,311.5\n",
      " screenshot1712747209.1746879.png,1,88.5,373.5,123.5,408.5\n",
      " screenshot1712743409.8538187.png,1,65.5,378.5,100.5,413.5\n",
      "\n",
      "There are 3225 good datums in total\n"
     ]
    }
   ],
   "source": [
    "lines_to_write = []\n",
    "bad_datums = []\n",
    "\n",
    "for datum in datums:\n",
    "    line = \" \"\n",
    "    for i in datum:\n",
    "        line += str(i) + \",\"\n",
    "    line = line[:-1]\n",
    "\n",
    "    if (len(line.split(\",\"))) != 6:\n",
    "        continue\n",
    "\n",
    "    lines_to_write.append(line)\n",
    "\n",
    "print(f\"Random lines to print\")\n",
    "for i in random.sample(lines_to_write, 5):\n",
    "    print(i)\n",
    "\n",
    "print(f'\\nThere are {len(lines_to_write)} good datums in total')\n",
    "\n"
   ]
  },
  {
   "cell_type": "code",
   "execution_count": 36,
   "metadata": {},
   "outputs": [
    {
     "name": "stdout",
     "output_type": "stream",
     "text": [
      "Wrote 0 lines to the annotations.txt file\n"
     ]
    }
   ],
   "source": [
    "# write all the lines_to_write to the annotations.txt file\n",
    "writes = 0\n",
    "with open(labels_dir, \"w\") as file:\n",
    "    for line in lines_to_write:\n",
    "        file.write(line + \"\\n\")\n",
    "print(f'Wrote {writes} lines to the annotations.txt file')"
   ]
  }
 ],
 "metadata": {
  "kernelspec": {
   "display_name": "Python 3",
   "language": "python",
   "name": "python3"
  },
  "language_info": {
   "codemirror_mode": {
    "name": "ipython",
    "version": 3
   },
   "file_extension": ".py",
   "mimetype": "text/x-python",
   "name": "python",
   "nbconvert_exporter": "python",
   "pygments_lexer": "ipython3",
   "version": "3.11.1"
  }
 },
 "nbformat": 4,
 "nbformat_minor": 2
}
